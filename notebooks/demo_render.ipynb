{
 "cells": [
  {
   "cell_type": "code",
   "execution_count": null,
   "id": "12d105fd-c652-4a67-908f-ad6c5629fe6f",
   "metadata": {},
   "outputs": [],
   "source": [
    "%load_ext autoreload\n",
    "%autoreload 2"
   ]
  },
  {
   "cell_type": "code",
   "execution_count": null,
   "id": "4dfee71d-408a-46ae-993d-629d6d38f1b2",
   "metadata": {},
   "outputs": [],
   "source": [
    "from pathlib import Path\n",
    "import os\n",
    "\n",
    "import numpy as np\n",
    "import visualize_3d.plots as vpl\n",
    "\n",
    "from partnet_mobility_utils.articulate import articulate_joint\n",
    "from partnet_mobility_utils.data import PMObject\n",
    "from partnet_mobility_utils.render.pybullet import PybulletRenderer"
   ]
  },
  {
   "cell_type": "code",
   "execution_count": null,
   "id": "0df9fa59-2211-428c-9ac6-fb5fb4e6a1ac",
   "metadata": {},
   "outputs": [],
   "source": [
    "TESTDATA_DIR = Path(\"..\") / \"tests\" / \"testdata\"\n",
    "\n",
    "obj = PMObject(TESTDATA_DIR / \"7179\")\n",
    "renderer = PybulletRenderer()"
   ]
  },
  {
   "cell_type": "code",
   "execution_count": null,
   "id": "354fcbb6-83c5-4d99-b310-80bf62706f36",
   "metadata": {},
   "outputs": [],
   "source": [
    "res = renderer.render(obj, joints=\"random\", camera_xyz=\"random\")\n",
    "print(renderer._render_env.get_joint_angles())\n",
    "vpl.segmentation_fig(res['pos'][::10], res['seg'][::10])"
   ]
  },
  {
   "cell_type": "code",
   "execution_count": null,
   "id": "f4354e55",
   "metadata": {},
   "outputs": [],
   "source": [
    "newpos = articulate_joint(\n",
    "    obj,\n",
    "    res['angles'],\n",
    "    \"link_4\",\n",
    "    np.pi,\n",
    "    res[\"pos\"],\n",
    "    res[\"seg\"],\n",
    "    res[\"labelmap\"],\n",
    "    res[\"T_world_base\"],\n",
    ")"
   ]
  },
  {
   "cell_type": "code",
   "execution_count": null,
   "id": "5b2a63d4",
   "metadata": {},
   "outputs": [],
   "source": [
    "vpl.segmentation_fig(newpos[::10], res['seg'][::10])"
   ]
  },
  {
   "cell_type": "code",
   "execution_count": null,
   "id": "350d87f0",
   "metadata": {},
   "outputs": [],
   "source": []
  }
 ],
 "metadata": {
  "kernelspec": {
   "display_name": "Python 3.10.5 64-bit ('pmutils')",
   "language": "python",
   "name": "python3"
  },
  "language_info": {
   "codemirror_mode": {
    "name": "ipython",
    "version": 3
   },
   "file_extension": ".py",
   "mimetype": "text/x-python",
   "name": "python",
   "nbconvert_exporter": "python",
   "pygments_lexer": "ipython3",
   "version": "3.10.5"
  },
  "vscode": {
   "interpreter": {
    "hash": "00d4d3e122852e363c8f907e18947c73259d29631183c4d9d2c9034f88f2f365"
   }
  }
 },
 "nbformat": 4,
 "nbformat_minor": 5
}
