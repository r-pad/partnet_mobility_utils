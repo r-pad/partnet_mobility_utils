{
 "cells": [
  {
   "cell_type": "code",
   "execution_count": null,
   "id": "12d105fd-c652-4a67-908f-ad6c5629fe6f",
   "metadata": {},
   "outputs": [],
   "source": [
    "%load_ext autoreload\n",
    "%autoreload 2"
   ]
  },
  {
   "cell_type": "code",
   "execution_count": null,
   "id": "4dfee71d-408a-46ae-993d-629d6d38f1b2",
   "metadata": {},
   "outputs": [],
   "source": [
    "from pathlib import Path\n",
    "\n",
    "import visualize_3d.plots as vpl\n",
    "\n",
    "from partnet_mobility_utils.data import PMObject\n",
    "from partnet_mobility_utils.render.pybullet import PybulletRenderer\n",
    "\n"
   ]
  },
  {
   "cell_type": "code",
   "execution_count": null,
   "id": "0df9fa59-2211-428c-9ac6-fb5fb4e6a1ac",
   "metadata": {},
   "outputs": [],
   "source": [
    "TESTDATA_DIR = Path(\"..\") / \"tests\" / \"testdata\"\n",
    "\n",
    "obj = PMObject(TESTDATA_DIR / \"100809\")\n",
    "renderer = PybulletRenderer()\n",
    "res = renderer.render(obj)"
   ]
  },
  {
   "cell_type": "code",
   "execution_count": null,
   "id": "edd7872f-2bdb-41dd-837d-7b4c6f0be88a",
   "metadata": {},
   "outputs": [],
   "source": [
    "res['pos'].shape\n"
   ]
  },
  {
   "cell_type": "code",
   "execution_count": null,
   "id": "255b670e-8d49-4ebe-bed2-1c7fed9b607f",
   "metadata": {},
   "outputs": [],
   "source": [
    "res['seg'].shape"
   ]
  },
  {
   "cell_type": "code",
   "execution_count": null,
   "id": "354fcbb6-83c5-4d99-b310-80bf62706f36",
   "metadata": {},
   "outputs": [],
   "source": [
    "vpl.segmentation_fig(res['pos'][::10], res['seg'][::10])"
   ]
  },
  {
   "cell_type": "code",
   "execution_count": null,
   "id": "ceb6ec7e-8074-4dac-a8ba-875e154afff4",
   "metadata": {},
   "outputs": [],
   "source": []
  }
 ],
 "metadata": {
  "kernelspec": {
   "display_name": "Python 3 (ipykernel)",
   "language": "python",
   "name": "python3"
  },
  "language_info": {
   "codemirror_mode": {
    "name": "ipython",
    "version": 3
   },
   "file_extension": ".py",
   "mimetype": "text/x-python",
   "name": "python",
   "nbconvert_exporter": "python",
   "pygments_lexer": "ipython3",
   "version": "3.10.5"
  }
 },
 "nbformat": 4,
 "nbformat_minor": 5
}
